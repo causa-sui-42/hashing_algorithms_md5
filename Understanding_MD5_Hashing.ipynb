{
  "nbformat": 4,
  "nbformat_minor": 0,
  "metadata": {
    "colab": {
      "provenance": []
    },
    "kernelspec": {
      "name": "python3",
      "display_name": "Python 3"
    },
    "language_info": {
      "name": "python"
    }
  },
  "cells": [
    {
      "cell_type": "markdown",
      "source": [
        "#Understanding MD5 Hashing and Its Usefulness in Data Workflows"
      ],
      "metadata": {
        "id": "xGTVSpumiXnp"
      }
    },
    {
      "cell_type": "markdown",
      "source": [
        "##**Introduction**\n",
        "\n",
        "---"
      ],
      "metadata": {
        "id": "Q8cRR895ijQE"
      }
    },
    {
      "cell_type": "markdown",
      "source": [
        "In the world of data workflows and data management, ensuring data integrity, consistency, and uniqueness is paramount. One powerful tool that aids in this endeavor is the MD5 hash function. In this article, we will explore the MD5 hashing algorithm, its usefulness in generating unique identifiers for data records, and its applications in modern data processing pipelines using code examples with Python."
      ],
      "metadata": {
        "id": "DCzKOVjSingq"
      }
    },
    {
      "cell_type": "markdown",
      "source": [
        "##**What is MD5 Hashing?**\n",
        "\n",
        "---"
      ],
      "metadata": {
        "id": "rfgnMVraizS0"
      }
    },
    {
      "cell_type": "markdown",
      "source": [
        "MD5 (Message Digest Algorithm 5) is a widely-used cryptographic hash function that takes an input (data) of arbitrary length and produces a fixed-size (128-bit) hash value. The key property of the MD5 algorithm is that it generates a unique hash value for each unique input. Even a tiny change in the input data will result in a vastly different MD5 hash value."
      ],
      "metadata": {
        "id": "p2l7iabai8sY"
      }
    },
    {
      "cell_type": "markdown",
      "source": [
        "##**Generating MD5 Hashes in Python**\n",
        "\n",
        "---"
      ],
      "metadata": {
        "id": "8VRXcNLjjIGn"
      }
    },
    {
      "cell_type": "markdown",
      "source": [
        "Let's start by exploring how to generate MD5 hashes using Python. The Python standard library provides a hashlib module that includes an implementation of the MD5 algorithm."
      ],
      "metadata": {
        "id": "iiKkBvFWjOKG"
      }
    },
    {
      "cell_type": "code",
      "source": [
        "import hashlib\n",
        "\n",
        "def generate_md5_hash(data):\n",
        "    md5 = hashlib.md5()\n",
        "    md5.update(data.encode('utf-8'))\n",
        "    return md5.hexdigest()\n",
        "\n",
        "data = \"Hello, Medium!\"\n",
        "md5_hash = generate_md5_hash(data)\n",
        "print(f\"MD5 Hash: {md5_hash}\")\n"
      ],
      "metadata": {
        "colab": {
          "base_uri": "https://localhost:8080/"
        },
        "id": "E__8kxNVjVOF",
        "outputId": "ed8e6689-8dff-4432-c62d-f2c170f56077"
      },
      "execution_count": null,
      "outputs": [
        {
          "output_type": "stream",
          "name": "stdout",
          "text": [
            "MD5 Hash: f36c8c3a550320a66b780768320d14bb\n"
          ]
        }
      ]
    },
    {
      "cell_type": "markdown",
      "source": [
        "The ```generate_md5_hash``` function takes a string data as input, encodes it into bytes, and then computes its MD5 hash using the ```hexdigest()``` method. This will give us a fixed-length hexadecimal string representing the unique hash value for the input data."
      ],
      "metadata": {
        "id": "s9VhNPGdjkOn"
      }
    },
    {
      "cell_type": "markdown",
      "source": [
        "##**Usefulness in Data Workflows**\n",
        "\n",
        "---\n",
        "\n"
      ],
      "metadata": {
        "id": "0XuDrjlpkOb7"
      }
    },
    {
      "cell_type": "markdown",
      "source": [
        "###1. Data Integrity Verification:\n",
        "MD5 hashing plays a crucial role in verifying data integrity. In large-scale data processing, data can traverse through various systems, and corruption or changes can occur inadvertently. By computing and comparing MD5 hashes of data before and after processing, data engineers can quickly detect any alterations and identify potential data integrity issues.\n",
        "\n",
        "###2. Deduplication:\n",
        "MD5 hashes are widely used for deduplication purposes in data pipelines. When dealing with massive datasets, it is common to encounter duplicate records. By hashing the data and storing the MD5 hashes in a lookup table, you can efficiently identify and remove duplicates during data ingestion.\n",
        "\n",
        "###3. Generating Unique Identifiers:\n",
        "As seen in our code example, MD5 hashing can generate unique identifiers (e.g., cost_id) for data records based on specific columns. This is particularly useful when you need to combine data from multiple sources and ensure that each combination results in a consistent and unique identifier.\n",
        "\n",
        "###4. Secure Data Transmission:\n",
        "MD5 hashing is commonly used in cryptographic applications to verify the integrity of data during transmission. By generating an MD5 hash before sending data and comparing it upon receipt, recipients can validate that the data has not been tampered with during transit.\n",
        "\n",
        "##Limitations of MD5 Hashing:\n",
        "While MD5 hashing has several applications in data workflows, it's essential to acknowledge its limitations. MD5 is considered cryptographically broken and vulnerable to collision attacks, where different inputs produce the same hash value. For cryptographic purposes, stronger hash functions like SHA-256 are recommended."
      ],
      "metadata": {
        "id": "ihWSBeXakU3s"
      }
    },
    {
      "cell_type": "markdown",
      "source": [
        "##**More advanced analogies for MD5 hashing**\n",
        "\n",
        "---"
      ],
      "metadata": {
        "id": "o4QNl2wMkkJv"
      }
    },
    {
      "cell_type": "markdown",
      "source": [
        "While MD5 hashing has been widely used in various applications, it is now considered cryptographically broken and vulnerable to collision attacks. As a result, it is essential to consider more secure alternatives for hashing, especially when dealing with sensitive data or cryptographic purposes. Below we are describing some alternatives to MD5 hashing.\n",
        "\n",
        "##**SHA-256 (Secure Hash Algorithm 256-bit)**\n",
        "\n",
        "---\n",
        "SHA-256 is a member of the SHA-2 family of cryptographic hash functions and is widely regarded as a secure alternative to MD5. It produces a 256-bit hash value, making it more robust against collision attacks and ensuring higher data security. SHA-256 is commonly used in various security-sensitive applications, such as digital signatures and certificate.\n",
        "\n"
      ],
      "metadata": {
        "id": "ONrzGt-6lD7F"
      }
    },
    {
      "cell_type": "code",
      "source": [
        "import hashlib\n",
        "\n",
        "def generate_sha256_hash(data):\n",
        "    sha256 = hashlib.sha256()\n",
        "    sha256.update(data.encode('utf-8'))\n",
        "    return sha256.hexdigest()\n",
        "\n",
        "data = \"Hello, Medium!\"\n",
        "sha256_hash = generate_sha256_hash(data)\n",
        "print(f\"SHA-256 Hash: {sha256_hash}\")\n"
      ],
      "metadata": {
        "colab": {
          "base_uri": "https://localhost:8080/"
        },
        "id": "CpvE4PqAlSMS",
        "outputId": "dff24db0-f474-4238-843c-dfa6cf13f44a"
      },
      "execution_count": null,
      "outputs": [
        {
          "output_type": "stream",
          "name": "stdout",
          "text": [
            "SHA-256 Hash: 809599eeefde04b4b105554f729ef9dd1d5090c54d3ed2778aa09fc3b4730414\n"
          ]
        }
      ]
    },
    {
      "cell_type": "markdown",
      "source": [
        "##**BLAKE2**\n",
        "---\n",
        "\n",
        "BLAKE2 is a cryptographic hash function that provides better performance compared to SHA-256. It is available in two variants: BLAKE2b, which produces a 512-bit output, and BLAKE2s, which produces a 256-bit output. BLAKE2 is suitable for a wide range of applications, including data integrity verification, password hashing, and checksums."
      ],
      "metadata": {
        "id": "J2ahUDY0mf3N"
      }
    },
    {
      "cell_type": "code",
      "source": [
        "import hashlib\n",
        "\n",
        "def generate_blake2_hash(data):\n",
        "    blake2 = hashlib.blake2b()\n",
        "    blake2.update(data.encode('utf-8'))\n",
        "    return blake2.hexdigest()\n",
        "\n",
        "data = \"Hello, Medium!\"\n",
        "blake2_hash = generate_blake2_hash(data)\n",
        "print(f\"BLAKE2 Hash: {blake2_hash}\")\n"
      ],
      "metadata": {
        "colab": {
          "base_uri": "https://localhost:8080/"
        },
        "id": "tYyWMuXUmlWA",
        "outputId": "c7a63bac-e97c-4be0-d002-9b16643f3f26"
      },
      "execution_count": null,
      "outputs": [
        {
          "output_type": "stream",
          "name": "stdout",
          "text": [
            "BLAKE2 Hash: 7c5275cc278e805c7144fd2caf8cd31b39aee0d46c5a9d94cb93d7d51947f0995af79ff65da8558ef0805f6fa53802d6ca231c325e4f3ebfb850899add161736\n"
          ]
        }
      ]
    },
    {
      "cell_type": "markdown",
      "source": [
        "##**Argon2**\n",
        "\n",
        "---\n",
        "Argon2 is a memory-hard, password-hashing algorithm designed to resist both brute-force and side-channel attacks. It won the Password Hashing Competition (PHC) and is now considered the state-of-the-art password-hashing function. It provides configurable time and memory costs, making it well-suited for various security needs."
      ],
      "metadata": {
        "id": "zpTSv8e0lbnf"
      }
    },
    {
      "cell_type": "code",
      "source": [
        "#pip install argon2\n",
        "import argon2\n",
        "\n",
        "def generate_argon2_hash(password):\n",
        "    original_data_bytes = password.encode('utf-8')\n",
        "    hash_str = argon2.low_level.hash_secret(original_data_bytes,\n",
        "                                             salt=b'salt123456789012345678901234567890',  # Increase salt length\n",
        "                                             time_cost=16,\n",
        "                                             memory_cost=2**15,\n",
        "                                             parallelism=1,\n",
        "                                             hash_len=32,\n",
        "                                             type=argon2.low_level.Type.ID)\n",
        "    return hash_str\n",
        "\n",
        "password = \"mysecretpassword\"\n",
        "argon2_hash = generate_argon2_hash(password)\n",
        "print(f\"Argon2 Hash: {argon2_hash}\")"
      ],
      "metadata": {
        "colab": {
          "base_uri": "https://localhost:8080/"
        },
        "id": "a0PTKhYRlVr3",
        "outputId": "5b803db2-052b-473b-a696-109aa7fa296d"
      },
      "execution_count": null,
      "outputs": [
        {
          "output_type": "stream",
          "name": "stdout",
          "text": [
            "Argon2 Hash: b'$argon2id$v=19$m=32768,t=16,p=1$c2FsdDEyMzQ1Njc4OTAxMjM0NTY3ODkwMTIzNDU2Nzg5MA$Sfe5SnYl1tqIQ9V2gNJ6f4t9GZGR2KlKcShjtWzuO8I'\n"
          ]
        }
      ]
    },
    {
      "cell_type": "markdown",
      "source": [
        "##**Conclusion**\n",
        "\n",
        "---\n",
        "\n",
        "**MD5** hashing is a powerful tool in data workflows, offering benefits such as data integrity verification, deduplication, and generating unique identifiers. Its simplicity and efficiency make it an excellent choice for various data management tasks. However, for cryptographic applications, it's crucial to use more secure hash functions, like **BLAKE2**, **Argon2** or **SHA-256**. With this knowledge, data engineers and developers can leverage different hashing algorithms to enhance their data processing pipelines and ensure data reliability and consistency.\n",
        "\n",
        "Incorporating hashing into your data workflows can elevate the level of data quality and security, bolstering your data-driven decision-making processes.\n",
        "\n",
        "Happy hashing!"
      ],
      "metadata": {
        "id": "f78AEN5NmYJE"
      }
    },
    {
      "cell_type": "code",
      "source": [],
      "metadata": {
        "id": "8EUIshrVFnnU"
      },
      "execution_count": null,
      "outputs": []
    }
  ]
}